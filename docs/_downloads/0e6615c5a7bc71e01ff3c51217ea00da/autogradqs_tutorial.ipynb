{
  "cells": [
    {
      "cell_type": "markdown",
      "metadata": {
        "id": "view-in-github",
        "colab_type": "text"
      },
      "source": [
        "<a href=\"https://colab.research.google.com/github/yoorhee/SkiML/blob/main/docs/_downloads/0e6615c5a7bc71e01ff3c51217ea00da/autogradqs_tutorial.ipynb\" target=\"_parent\"><img src=\"https://colab.research.google.com/assets/colab-badge.svg\" alt=\"Open In Colab\"/></a>"
      ]
    },
    {
      "cell_type": "code",
      "execution_count": null,
      "metadata": {
        "id": "3LJokO_57xu8"
      },
      "outputs": [],
      "source": [
        "# Google Colab에서 노트북을 실행하실 때에는\n",
        "# https://tutorials.pytorch.kr/beginner/colab 를 참고하세요.\n",
        "%matplotlib inline"
      ]
    },
    {
      "cell_type": "markdown",
      "metadata": {
        "id": "Z30zhfqX7xvA"
      },
      "source": [
        "\n",
        "[파이토치(PyTorch) 기본 익히기](intro.html) ||\n",
        "[빠른 시작](quickstart_tutorial.html) ||\n",
        "[텐서(Tensor)](tensorqs_tutorial.html) ||\n",
        "[Dataset과 Dataloader](data_tutorial.html) ||\n",
        "[변형(Transform)](transforms_tutorial.html) ||\n",
        "[신경망 모델 구성하기](buildmodel_tutorial.html) ||\n",
        "**Autograd** ||\n",
        "[최적화(Optimization)](optimization_tutorial.html) ||\n",
        "[모델 저장하고 불러오기](saveloadrun_tutorial.html)\n",
        "\n",
        "# ``torch.autograd``\\ 를 사용한 자동 미분\n",
        "\n",
        "신경망을 학습할 때 가장 자주 사용되는 알고리즘은 **역전파**\\ 입니다. 이 알고리즘에서,\n",
        "매개변수(모델 가중치)는 주어진 매개변수에 대한 손실 함수의 **변화도(gradient)**\\ 에\n",
        "따라 조정됩니다.\n",
        "\n",
        "이러한 변화도를 계산하기 위해 PyTorch에는 ``torch.autograd``\\ 라고 불리는 자동 미분 엔진이\n",
        "내장되어 있습니다. 이는 모든 계산 그래프에 대한 변화도의 자동 계산을 지원합니다.\n",
        "\n",
        "입력 ``x``, 매개변수 ``w``\\ 와 ``b`` , 그리고 일부 손실 함수가 있는 가장 간단한 단일 계층\n",
        "신경망을 가정하겠습니다. PyTorch에서는 다음과 같이 정의할 수 있습니다:\n"
      ]
    },
    {
      "cell_type": "code",
      "execution_count": 1,
      "metadata": {
        "id": "NejHyg-27xvC"
      },
      "outputs": [],
      "source": [
        "import torch\n",
        "\n",
        "x = torch.ones(5)  # input tensor\n",
        "y = torch.zeros(3)  # expected output\n",
        "w = torch.randn(5, 3, requires_grad=True)\n",
        "b = torch.randn(3, requires_grad=True)\n",
        "z = torch.matmul(x, w)+b\n",
        "loss = torch.nn.functional.binary_cross_entropy_with_logits(z, y)"
      ]
    },
    {
      "cell_type": "markdown",
      "metadata": {
        "id": "etYsX9Qa7xvD"
      },
      "source": [
        "## Tensor, Function과 연산그래프(Computational graph)\n",
        "\n",
        "이 코드는 다음의 **연산 그래프** 를 정의합니다:\n",
        "\n",
        ".. figure:: /_static/img/basics/comp-graph.png\n",
        "   :alt:\n",
        "\n",
        "이 신경망에서, ``w``\\ 와 ``b``\\ 는 최적화를 해야 하는 **매개변수**\\ 입니다. 따라서\n",
        "이러한 변수들에 대한 손실 함수의 변화도를 계산할 수 있어야 합니다. 이를 위해서 해당 텐서에\n",
        "``requires_grad`` 속성을 설정합니다.\n",
        "\n"
      ]
    },
    {
      "cell_type": "markdown",
      "metadata": {
        "id": "nlxAMD3N7xvE"
      },
      "source": [
        "<div class=\"alert alert-info\"><h4>Note</h4><p>``requires_grad``\\ 의 값은 텐서를 생성할 때 설정하거나, 나중에\n",
        "          ``x.requires_grad_(True)`` 메소드를 사용하여 나중에 설정할 수도 있습니다.</p></div>\n",
        "\n"
      ]
    },
    {
      "cell_type": "markdown",
      "metadata": {
        "id": "s9jxuliN7xvF"
      },
      "source": [
        "연산 그래프를 구성하기 위해 텐서에 적용하는 함수는 사실 ``Function`` 클래스의 객체입니다.\n",
        "이 객체는 *순전파* 방향으로 함수를 계산하는 방법과, *역방향 전파* 단계에서 도함수(derivative)를\n",
        "계산하는 방법을 알고 있습니다. 역방향 전파 함수에 대한 참조(reference)는 텐서의 ``grad_fn``\n",
        "속성에 저장됩니다. ``Function``\\ 에 대한 자세한 정보는\n",
        "[이 문서](https://pytorch.org/docs/stable/autograd.html#function)_\n",
        "에서 찾아볼 수 있습니다.\n",
        "\n",
        "\n"
      ]
    },
    {
      "cell_type": "code",
      "execution_count": 2,
      "metadata": {
        "id": "uhajzIJn7xvF",
        "outputId": "79f4bd3a-b86c-4f1a-ff9e-e85efbf5bb38",
        "colab": {
          "base_uri": "https://localhost:8080/"
        }
      },
      "outputs": [
        {
          "output_type": "stream",
          "name": "stdout",
          "text": [
            "Gradient function for z = <AddBackward0 object at 0x78b7eafaf670>\n",
            "Gradient function for loss = <BinaryCrossEntropyWithLogitsBackward0 object at 0x78b7eafafca0>\n"
          ]
        }
      ],
      "source": [
        "print(f\"Gradient function for z = {z.grad_fn}\")\n",
        "print(f\"Gradient function for loss = {loss.grad_fn}\")"
      ]
    },
    {
      "cell_type": "markdown",
      "metadata": {
        "id": "LZzQxnoA7xvG"
      },
      "source": [
        "## 변화도(Gradient) 계산하기\n",
        "\n",
        "신경망에서 매개변수의 가중치를 최적화하려면 매개변수에 대한 손실함수의 도함수(derivative)를\n",
        "계산해야 합니다. 즉, ``x``\\ 와 ``y``\\ 의 일부 고정값에서 $\\frac{\\partial loss}{\\partial w}$\\ 와\n",
        "$\\frac{\\partial loss}{\\partial b}$ 가 필요합니다.\n",
        "이러한 도함수를 계산하기 위해, ``loss.backward()`` 를 호출한 다음 ``w.grad``\\ 와\n",
        "``b.grad``\\ 에서 값을 가져옵니다:\n",
        "\n",
        "\n"
      ]
    },
    {
      "cell_type": "code",
      "execution_count": 3,
      "metadata": {
        "id": "tKP7d9287xvG",
        "outputId": "51a5bae6-8ff1-4106-f7af-249b3ffa0674",
        "colab": {
          "base_uri": "https://localhost:8080/"
        }
      },
      "outputs": [
        {
          "output_type": "stream",
          "name": "stdout",
          "text": [
            "tensor([[0.0835, 0.0561, 0.1859],\n",
            "        [0.0835, 0.0561, 0.1859],\n",
            "        [0.0835, 0.0561, 0.1859],\n",
            "        [0.0835, 0.0561, 0.1859],\n",
            "        [0.0835, 0.0561, 0.1859]])\n",
            "tensor([0.0835, 0.0561, 0.1859])\n"
          ]
        }
      ],
      "source": [
        "loss.backward()\n",
        "print(w.grad)\n",
        "print(b.grad)"
      ]
    },
    {
      "cell_type": "markdown",
      "metadata": {
        "id": "V7HyKMxQ7xvG"
      },
      "source": [
        "<div class=\"alert alert-info\"><h4>Note</h4><p>- 연산 그래프의 잎(leaf) 노드들 중 ``requires_grad`` 속성이 ``True``\\ 로 설정된\n",
        "    노드들의 ``grad`` 속성만 구할 수 있습니다. 그래프의 다른 모든 노드에서는 변화도가\n",
        "    유효하지 않습니다.\n",
        "  - 성능 상의 이유로, 주어진 그래프에서의 ``backward``\\ 를 사용한 변화도 계산은 한 번만\n",
        "    수행할 수 있습니다. 만약 동일한 그래프에서 여러번의 ``backward`` 호출이 필요하면,\n",
        "    ``backward`` 호출 시에 ``retrain_graph=True``\\ 를 전달해야 합니다.</p></div>\n",
        "\n",
        "\n"
      ]
    },
    {
      "cell_type": "markdown",
      "metadata": {
        "id": "z3koCWgw7xvG"
      },
      "source": [
        "## 변화도 추적 멈추기\n",
        "\n",
        "기본적으로, ``requires_grad=True``\\ 인 모든 텐서들은 연산 기록을 추적하고 변화도 계산을\n",
        "지원합니다. 그러나 모델을 학습한 뒤 입력 데이터를 단순히 적용하기만 하는 경우와 같이 *순전파*\n",
        "연산만 필요한 경우에는, 이러한 추적이나 지원이 필요 없을 수 있습니다.\n",
        "연산 코드를 ``torch.no_grad()`` 블록으로 둘러싸서 연산 추적을 멈출 수 있습니다:\n",
        "\n",
        "\n"
      ]
    },
    {
      "cell_type": "code",
      "execution_count": 5,
      "metadata": {
        "id": "1JuQqsNG7xvH",
        "outputId": "43504e4f-982b-4604-9dd0-5299fd0f4161",
        "colab": {
          "base_uri": "https://localhost:8080/"
        }
      },
      "outputs": [
        {
          "output_type": "stream",
          "name": "stdout",
          "text": [
            "True\n",
            "False\n"
          ]
        }
      ],
      "source": [
        "z = torch.matmul(x, w)+b\n",
        "print(z.requires_grad)\n",
        "\n",
        "with torch.no_grad():\n",
        "    z = torch.matmul(x, w)+b\n",
        "print(z.requires_grad)"
      ]
    },
    {
      "cell_type": "markdown",
      "metadata": {
        "id": "2XWEn8pW7xvH"
      },
      "source": [
        "동일한 결과를 얻는 다른 방법은 텐서에 ``detach()`` 메소드를 사용하는 것입니다:\n",
        "\n",
        "\n"
      ]
    },
    {
      "cell_type": "code",
      "execution_count": 6,
      "metadata": {
        "id": "J3MMKGvU7xvH",
        "outputId": "3a596b59-a214-44b8-cd85-5c284fa4d3f4",
        "colab": {
          "base_uri": "https://localhost:8080/"
        }
      },
      "outputs": [
        {
          "output_type": "stream",
          "name": "stdout",
          "text": [
            "False\n"
          ]
        }
      ],
      "source": [
        "z = torch.matmul(x, w)+b\n",
        "z_det = z.detach()\n",
        "print(z_det.requires_grad)"
      ]
    },
    {
      "cell_type": "markdown",
      "metadata": {
        "id": "wKS70LjL7xvH"
      },
      "source": [
        "변화도 추적을 멈춰야 하는 이유들은 다음과 같습니다:\n",
        "  - 신경망의 일부 매개변수를 **고정된 매개변수(frozen parameter)**\\ 로 표시합니다.\n",
        "  - 변화도를 추적하지 않는 텐서의 연산이 더 효율적이기 때문에, 순전파 단계만 수행할 때\n",
        "    **연산 속도가 향상됩니다.**\n",
        "\n"
      ]
    },
    {
      "cell_type": "markdown",
      "metadata": {
        "id": "xzO-v0cR7xvH"
      },
      "source": [
        "## 연산 그래프에 대한 추가 정보\n",
        "\n",
        "개념적으로, autograd는 데이터(텐서)의 및 실행된 모든 연산들(및 연산 결과가 새로운 텐서인 경우도 포함하여)의\n",
        "기록을 [Function](https://pytorch.org/docs/stable/autograd.html#torch.autograd.Function)_ 객체로\n",
        "구성된 방향성 비순환 그래프(DAG; Directed Acyclic Graph)에 저장(keep)합니다.\n",
        "이 방향성 비순환 그래프(DAG)의 잎(leave)은 입력 텐서이고, 뿌리(root)는 결과 텐서입니다.\n",
        "이 그래프를 뿌리에서부터 잎까지 추적하면 연쇄 법칙(chain rule)에 따라 변화도를 자동으로 계산할 수 있습니다.\n",
        "\n",
        "순전파 단계에서, autograd는 다음 두 가지 작업을 동시에 수행합니다:\n",
        "\n",
        "- 요청된 연산을 수행하여 결과 텐서를 계산하고,\n",
        "- DAG에 연산의 *변화도 기능(gradient function)* 를 유지(maintain)합니다.\n",
        "\n",
        "역전파 단계는 DAG 뿌리(root)에서 ``.backward()`` 가 호출될 때 시작됩니다. ``autograd``\\ 는 이 때:\n",
        "\n",
        "- 각 ``.grad_fn`` 으로부터 변화도를 계산하고,\n",
        "- 각 텐서의 ``.grad`` 속성에 계산 결과를 쌓고(accumulate),\n",
        "- 연쇄 법칙을 사용하여, 모든 잎(leaf) 텐서들까지 전파(propagate)합니다.\n",
        "\n",
        "<div class=\"alert alert-info\"><h4>Note</h4><p>**PyTorch에서 DAG들은 동적(dynamic)입니다.**\n",
        "  주목해야 할 중요한 점은 그래프가 처음부터(from scratch) 다시 생성된다는 것입니다; 매번 ``.bachward()`` 가\n",
        "  호출되고 나면, autograd는 새로운 그래프를 채우기(populate) 시작합니다. 이러한 점 덕분에 모델에서\n",
        "  흐름 제어(control flow) 구문들을 사용할 수 있게 되는 것입니다; 매번 반복(iteration)할 때마다 필요하면\n",
        "  모양(shape)이나 크기(size), 연산(operation)을 바꿀 수 있습니다.</p></div>\n",
        "\n"
      ]
    },
    {
      "cell_type": "markdown",
      "metadata": {
        "id": "2A-wCzQz7xvH"
      },
      "source": [
        "## 선택적으로 읽기(Optional Reading): 텐서 변화도와 야코비안 곱 (Jacobian Product)\n",
        "\n",
        "대부분의 경우, 스칼라 손실 함수를 가지고 일부 매개변수와 관련한 변화도를 계산해야 합니다.\n",
        "그러나 출력 함수가 임의의 텐서인 경우가 있습니다. 이럴 때, PyTorch는 실제 변화도가 아닌\n",
        "**야코비안 곱(Jacobian product)**\\ 을 계산합니다.\n",
        "\n",
        "$\\vec{x}=\\langle x_1,\\dots,x_n\\rangle$\\ 이고,\n",
        "$\\vec{y}=\\langle y_1,\\dots,y_m\\rangle$\\ 일 때\n",
        "벡터 함수 $\\vec{y}=f(\\vec{x})$\\ 에서 $\\vec{x}$\\ 에 대한\n",
        "$\\vec{y}$ 의 변화도는 **야코비안 행렬(Jacobian matrix)**\\ 로 주어집니다:\n",
        "\n",
        "\\begin{align}J=\\left(\\begin{array}{ccc}\n",
        "      \\frac{\\partial y_{1}}{\\partial x_{1}} & \\cdots & \\frac{\\partial y_{1}}{\\partial x_{n}}\\\\\n",
        "      \\vdots & \\ddots & \\vdots\\\\\n",
        "      \\frac{\\partial y_{m}}{\\partial x_{1}} & \\cdots & \\frac{\\partial y_{m}}{\\partial x_{n}}\n",
        "      \\end{array}\\right)\\end{align}\n",
        "\n",
        "야코비안 행렬 자체를 계산하는 대신, PyTorch는 주어진 입력 벡터 $v=(v_1 \\dots v_m)$\\ 에 대한\n",
        "**야코비안 곱(Jacobian Product)**  $v^T\\cdot J$\\ 을 계산합니다.\n",
        "이 과정은 $v$\\ 를 인자로 ``backward``\\ 를 호출하면 이뤄집니다. $v$\\ 의 크기는\n",
        "곱(product)을 계산하려고 하는 원래 텐서의 크기와 같아야 합니다.\n",
        "\n",
        "\n"
      ]
    },
    {
      "cell_type": "code",
      "execution_count": 8,
      "metadata": {
        "id": "DL7-IS-K7xvH",
        "outputId": "bd6c53f3-4756-4bf0-f838-e6bced728084",
        "colab": {
          "base_uri": "https://localhost:8080/"
        }
      },
      "outputs": [
        {
          "output_type": "stream",
          "name": "stdout",
          "text": [
            "Out\n",
            "tensor([[4., 1., 1., 1.],\n",
            "        [1., 4., 1., 1.],\n",
            "        [1., 1., 4., 1.],\n",
            "        [1., 1., 1., 4.],\n",
            "        [1., 1., 1., 1.]], grad_fn=<TBackward0>)\n",
            "First call\n",
            "tensor([[4., 2., 2., 2., 2.],\n",
            "        [2., 4., 2., 2., 2.],\n",
            "        [2., 2., 4., 2., 2.],\n",
            "        [2., 2., 2., 4., 2.]])\n",
            "\n",
            "Second call\n",
            "tensor([[8., 4., 4., 4., 4.],\n",
            "        [4., 8., 4., 4., 4.],\n",
            "        [4., 4., 8., 4., 4.],\n",
            "        [4., 4., 4., 8., 4.]])\n",
            "\n",
            "Call after zeroing gradients\n",
            "tensor([[4., 2., 2., 2., 2.],\n",
            "        [2., 4., 2., 2., 2.],\n",
            "        [2., 2., 4., 2., 2.],\n",
            "        [2., 2., 2., 4., 2.]])\n"
          ]
        }
      ],
      "source": [
        "inp = torch.eye(4, 5, requires_grad=True)\n",
        "out = (inp+1).pow(2).t() # elem-wise\n",
        "print(f'Out\\n{out}')\n",
        "out.backward(torch.ones_like(out), retain_graph=True)\n",
        "print(f\"First call\\n{inp.grad}\")\n",
        "out.backward(torch.ones_like(out), retain_graph=True)\n",
        "print(f\"\\nSecond call\\n{inp.grad}\")\n",
        "inp.grad.zero_()\n",
        "out.backward(torch.ones_like(out), retain_graph=True)\n",
        "print(f\"\\nCall after zeroing gradients\\n{inp.grad}\")"
      ]
    },
    {
      "cell_type": "markdown",
      "metadata": {
        "id": "gWn_mUyP7xvI"
      },
      "source": [
        "동일한 인자로 ``backward``\\ 를 두차례 호출하면 변화도 값이 달라집니다.\n",
        "이는 ``역방향`` 전파를 수행할 때, PyTorch가 **변화도를 누적(accumulate)해주기 때문**\\\n",
        "입니다. 즉, 계산된 변화도의 값이 연산 그래프의 모든 잎(leaf) 노드의 ``grad`` 속성에\n",
        "추가됩니다. 따라서 제대로 된 변화도를 계산하기 위해서는 ``grad`` 속성을 먼저 0으로 만들어야\n",
        "합니다. 실제 학습 과정에서는 *옵티마이저(optimizer)*\\ 가 이 과정을 도와줍니다.\n",
        "\n"
      ]
    },
    {
      "cell_type": "markdown",
      "metadata": {
        "id": "qwtxw-rF7xvI"
      },
      "source": [
        "<div class=\"alert alert-info\"><h4>Note</h4><p>이전에는 매개변수 없이 ``backward()`` 함수를 호출했습니다. 이는 본질적으로\n",
        "          ``backward(torch.tensor(1.0))`` 을 호출하는 것과 동일하며,\n",
        "          신경망 훈련 중의 손실과 같은 스칼라-값 함수의 변화도를 계산하는 유용한 방법입니다.</p></div>\n",
        "\n",
        "\n"
      ]
    },
    {
      "cell_type": "markdown",
      "metadata": {
        "id": "yCaP2orl7xvI"
      },
      "source": [
        "--------------\n",
        "\n",
        "\n"
      ]
    },
    {
      "cell_type": "markdown",
      "metadata": {
        "id": "aSL0wJgV7xvI"
      },
      "source": [
        "### 더 읽어보기\n",
        "- [Autograd Mechanics](https://pytorch.org/docs/stable/notes/autograd.html)\n",
        "\n"
      ]
    }
  ],
  "metadata": {
    "kernelspec": {
      "display_name": "Python 3",
      "language": "python",
      "name": "python3"
    },
    "language_info": {
      "codemirror_mode": {
        "name": "ipython",
        "version": 3
      },
      "file_extension": ".py",
      "mimetype": "text/x-python",
      "name": "python",
      "nbconvert_exporter": "python",
      "pygments_lexer": "ipython3",
      "version": "3.10.14"
    },
    "colab": {
      "provenance": [],
      "include_colab_link": true
    }
  },
  "nbformat": 4,
  "nbformat_minor": 0
}