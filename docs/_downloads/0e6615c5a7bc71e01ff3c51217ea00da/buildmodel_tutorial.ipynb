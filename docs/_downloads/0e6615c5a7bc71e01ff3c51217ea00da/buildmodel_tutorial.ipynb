{
  "cells": [
    {
      "cell_type": "markdown",
      "metadata": {
        "id": "view-in-github",
        "colab_type": "text"
      },
      "source": [
        "<a href=\"https://colab.research.google.com/github/yoorhee/SkiML/blob/main/docs/_downloads/0e6615c5a7bc71e01ff3c51217ea00da/buildmodel_tutorial.ipynb\" target=\"_parent\"><img src=\"https://colab.research.google.com/assets/colab-badge.svg\" alt=\"Open In Colab\"/></a>"
      ]
    },
    {
      "cell_type": "code",
      "execution_count": null,
      "metadata": {
        "id": "76MxtTvw47pZ"
      },
      "outputs": [],
      "source": [
        "# Google Colab에서 노트북을 실행하실 때에는\n",
        "# https://tutorials.pytorch.kr/beginner/colab 를 참고하세요.\n",
        "%matplotlib inline"
      ]
    },
    {
      "cell_type": "markdown",
      "metadata": {
        "id": "lyKFyIcl47pj"
      },
      "source": [
        "\n",
        "[파이토치(PyTorch) 기본 익히기](intro.html) ||\n",
        "[빠른 시작](quickstart_tutorial.html) ||\n",
        "[텐서(Tensor)](tensorqs_tutorial.html) ||\n",
        "[Dataset과 Dataloader](data_tutorial.html) ||\n",
        "[변형(Transform)](transforms_tutorial.html) ||\n",
        "**신경망 모델 구성하기** ||\n",
        "[Autograd](autogradqs_tutorial.html) ||\n",
        "[최적화(Optimization)](optimization_tutorial.html) ||\n",
        "[모델 저장하고 불러오기](saveloadrun_tutorial.html)\n",
        "\n",
        "# 신경망 모델 구성하기\n",
        "\n",
        "신경망은 데이터에 대한 연산을 수행하는 계층(layer)/모듈(module)로 구성되어 있습니다.\n",
        "[torch.nn](https://pytorch.org/docs/stable/nn.html) 네임스페이스는 신경망을 구성하는데 필요한 모든 구성 요소를 제공합니다.\n",
        "PyTorch의 모든 모듈은 [nn.Module](https://pytorch.org/docs/stable/generated/torch.nn.Module.html) 의 하위 클래스(subclass)\n",
        "입니다. 신경망은 다른 모듈(계층; layer)로 구성된 모듈입니다. 이러한 중첩된 구조는 복잡한 아키텍처를 쉽게 구축하고 관리할 수 있습니다.\n",
        "\n",
        "이어지는 장에서는 FashionMNIST 데이터셋의 이미지들을 분류하는 신경망을 구성해보겠습니다.\n"
      ]
    },
    {
      "cell_type": "code",
      "execution_count": 1,
      "metadata": {
        "id": "6uXLNBrM47ps"
      },
      "outputs": [],
      "source": [
        "import os\n",
        "import torch\n",
        "from torch import nn\n",
        "from torch.utils.data import DataLoader\n",
        "from torchvision import datasets, transforms"
      ]
    },
    {
      "cell_type": "markdown",
      "metadata": {
        "id": "909eq57147pv"
      },
      "source": [
        "## 학습을 위한 장치 얻기\n",
        "\n",
        "가능한 경우 GPU 또는 MPS와 같은 하드웨어 가속기에서 모델을 학습하려고 합니다.\n",
        "[torch.cuda](https://pytorch.org/docs/stable/notes/cuda.html) 또는 [torch.backends.mps](https://pytorch.org/docs/stable/notes/mps.html)\n",
        "가 사용 가능한지 확인해보고, 그렇지 않으면 CPU를 계속 사용합니다.\n",
        "\n"
      ]
    },
    {
      "cell_type": "code",
      "execution_count": 2,
      "metadata": {
        "id": "mqSjw-TV47px",
        "outputId": "5d32750f-751f-41b8-81d6-21c6a0117c87",
        "colab": {
          "base_uri": "https://localhost:8080/"
        }
      },
      "outputs": [
        {
          "output_type": "stream",
          "name": "stdout",
          "text": [
            "Using cuda device\n"
          ]
        }
      ],
      "source": [
        "device = (\n",
        "    \"cuda\"\n",
        "    if torch.cuda.is_available()\n",
        "    else \"mps\"\n",
        "    if torch.backends.mps.is_available()\n",
        "    else \"cpu\"\n",
        ")\n",
        "print(f\"Using {device} device\")"
      ]
    },
    {
      "cell_type": "markdown",
      "metadata": {
        "id": "pm8fsT0F47pz"
      },
      "source": [
        "## 클래스 정의하기\n",
        "\n",
        "신경망 모델을 ``nn.Module`` 의 하위클래스로 정의하고, ``__init__`` 에서 신경망 계층들을 초기화합니다.\n",
        "``nn.Module`` 을 상속받은 모든 클래스는 ``forward`` 메소드에 입력 데이터에 대한 연산들을 구현합니다.\n",
        "\n"
      ]
    },
    {
      "cell_type": "code",
      "execution_count": 3,
      "metadata": {
        "id": "6cyQxnfd47p0"
      },
      "outputs": [],
      "source": [
        "class NeuralNetwork(nn.Module):\n",
        "    def __init__(self):\n",
        "        super().__init__()\n",
        "        self.flatten = nn.Flatten()\n",
        "        self.linear_relu_stack = nn.Sequential(\n",
        "            nn.Linear(28*28, 512),\n",
        "            nn.ReLU(),\n",
        "            nn.Linear(512, 512),\n",
        "            nn.ReLU(),\n",
        "            nn.Linear(512, 10),\n",
        "        )\n",
        "\n",
        "    def forward(self, x):\n",
        "        x = self.flatten(x)\n",
        "        logits = self.linear_relu_stack(x)\n",
        "        return logits"
      ]
    },
    {
      "cell_type": "markdown",
      "metadata": {
        "id": "0zahPpy147p4"
      },
      "source": [
        "``NeuralNetwork`` 의 인스턴스(instance)를 생성하고 이를 ``device`` 로 이동한 뒤,\n",
        "구조(structure)를 출력합니다.\n",
        "\n"
      ]
    },
    {
      "cell_type": "code",
      "execution_count": 4,
      "metadata": {
        "id": "QYleusN447p6",
        "outputId": "ac9ed6c7-42f8-44e1-c31e-ba981df292de",
        "colab": {
          "base_uri": "https://localhost:8080/"
        }
      },
      "outputs": [
        {
          "output_type": "stream",
          "name": "stdout",
          "text": [
            "NeuralNetwork(\n",
            "  (flatten): Flatten(start_dim=1, end_dim=-1)\n",
            "  (linear_relu_stack): Sequential(\n",
            "    (0): Linear(in_features=784, out_features=512, bias=True)\n",
            "    (1): ReLU()\n",
            "    (2): Linear(in_features=512, out_features=512, bias=True)\n",
            "    (3): ReLU()\n",
            "    (4): Linear(in_features=512, out_features=10, bias=True)\n",
            "  )\n",
            ")\n"
          ]
        }
      ],
      "source": [
        "model = NeuralNetwork().to(device)\n",
        "print(model)"
      ]
    },
    {
      "cell_type": "markdown",
      "metadata": {
        "id": "n_sh5Q4047p9"
      },
      "source": [
        "모델을 사용하기 위해 입력 데이터를 전달합니다. 이는 일부\n",
        "[백그라운드 연산들](https://github.com/pytorch/pytorch/blob/270111b7b611d174967ed204776985cefca9c144/torch/nn/modules/module.py#L866) 과 함께\n",
        "모델의 ``forward`` 를 실행합니다. ``model.forward()`` 를 직접 호출하지 마세요!\n",
        "\n",
        "모델에 입력을 전달하여 호출하면 2차원 텐서를 반환합니다. 2차원 텐서의 dim=0은 각 분류(class)에 대한 원시(raw) 예측값 10개가,\n",
        "dim=1에는 각 출력의 개별 값들이 해당합니다.\n",
        "원시 예측값을 ``nn.Softmax`` 모듈의 인스턴스에 통과시켜 예측 확률을 얻습니다.\n",
        "\n"
      ]
    },
    {
      "cell_type": "code",
      "execution_count": 5,
      "metadata": {
        "id": "FzStDdZ247qA",
        "outputId": "74d6ef8e-1f00-47a1-fb6b-40061b00ad09",
        "colab": {
          "base_uri": "https://localhost:8080/"
        }
      },
      "outputs": [
        {
          "output_type": "stream",
          "name": "stdout",
          "text": [
            "Predicted class: tensor([0], device='cuda:0')\n"
          ]
        }
      ],
      "source": [
        "X = torch.rand(1, 28, 28, device=device)\n",
        "logits = model(X)\n",
        "pred_probab = nn.Softmax(dim=1)(logits)\n",
        "y_pred = pred_probab.argmax(1)\n",
        "print(f\"Predicted class: {y_pred}\")"
      ]
    },
    {
      "cell_type": "markdown",
      "metadata": {
        "id": "ClJxtEIp47qB"
      },
      "source": [
        "------------------------------------------------------------------------------------------\n",
        "\n",
        "\n"
      ]
    },
    {
      "cell_type": "markdown",
      "metadata": {
        "id": "36Sr-d_347qC"
      },
      "source": [
        "## 모델 계층(Layer)\n",
        "\n",
        "FashionMNIST 모델의 계층들을 살펴보겠습니다. 이를 설명하기 위해, 28x28 크기의 이미지 3개로 구성된\n",
        "미니배치를 가져와, 신경망을 통과할 때 어떤 일이 발생하는지 알아보겠습니다.\n",
        "\n"
      ]
    },
    {
      "cell_type": "code",
      "execution_count": 6,
      "metadata": {
        "id": "SPO6yf-K47qD",
        "outputId": "5494dd38-d268-470c-cd73-f7679b15ed2e",
        "colab": {
          "base_uri": "https://localhost:8080/"
        }
      },
      "outputs": [
        {
          "output_type": "stream",
          "name": "stdout",
          "text": [
            "torch.Size([3, 28, 28])\n"
          ]
        }
      ],
      "source": [
        "input_image = torch.rand(3,28,28)\n",
        "print(input_image.size())"
      ]
    },
    {
      "cell_type": "markdown",
      "metadata": {
        "id": "Oh-CxPyt47qE"
      },
      "source": [
        "### nn.Flatten\n",
        "[nn.Flatten](https://pytorch.org/docs/stable/generated/torch.nn.Flatten.html) 계층을 초기화하여\n",
        "각 28x28의 2D 이미지를 784 픽셀 값을 갖는 연속된 배열로 변환합니다. (dim=0의 미니배치 차원은 유지됩니다.)\n",
        "\n"
      ]
    },
    {
      "cell_type": "code",
      "execution_count": 7,
      "metadata": {
        "id": "Oikh44YM47qF",
        "outputId": "43de79c0-143d-4ede-93a6-c3b5061e2fae",
        "colab": {
          "base_uri": "https://localhost:8080/"
        }
      },
      "outputs": [
        {
          "output_type": "stream",
          "name": "stdout",
          "text": [
            "torch.Size([3, 784])\n"
          ]
        }
      ],
      "source": [
        "flatten = nn.Flatten()\n",
        "flat_image = flatten(input_image)\n",
        "print(flat_image.size())"
      ]
    },
    {
      "cell_type": "markdown",
      "metadata": {
        "id": "8XaZv8Kr47qG"
      },
      "source": [
        "### nn.Linear\n",
        "[선형 계층](https://pytorch.org/docs/stable/generated/torch.nn.Linear.html) 은 저장된 가중치(weight)와\n",
        "편향(bias)을 사용하여 입력에 선형 변환(linear transformation)을 적용하는 모듈입니다.\n",
        "\n",
        "\n"
      ]
    },
    {
      "cell_type": "code",
      "execution_count": 8,
      "metadata": {
        "id": "1VX_P1Vn47qH",
        "outputId": "8e907575-148f-491b-fbf1-770a2e60375b",
        "colab": {
          "base_uri": "https://localhost:8080/"
        }
      },
      "outputs": [
        {
          "output_type": "stream",
          "name": "stdout",
          "text": [
            "torch.Size([3, 20])\n"
          ]
        }
      ],
      "source": [
        "layer1 = nn.Linear(in_features=28*28, out_features=20)\n",
        "hidden1 = layer1(flat_image)\n",
        "print(hidden1.size())"
      ]
    },
    {
      "cell_type": "markdown",
      "metadata": {
        "id": "KGNfRE3e47qJ"
      },
      "source": [
        "### nn.ReLU\n",
        "비선형 활성화(activation)는 모델의 입력과 출력 사이에 복잡한 관계(mapping)를 만듭니다.\n",
        "비선형 활성화는 선형 변환 후에 적용되어 *비선형성(nonlinearity)* 을 도입하고, 신경망이 다양한 현상을 학습할 수 있도록 돕습니다.\n",
        "\n",
        "이 모델에서는 [nn.ReLU](https://pytorch.org/docs/stable/generated/torch.nn.ReLU.html) 를 선형 계층들 사이에 사용하지만,\n",
        "모델을 만들 때는 비선형성을 가진 다른 활성화를 도입할 수도 있습니다.\n",
        "\n"
      ]
    },
    {
      "cell_type": "code",
      "execution_count": 9,
      "metadata": {
        "id": "8OU_5RXq47qJ",
        "outputId": "7aff30b6-f994-4404-db49-a32bf97b77bb",
        "colab": {
          "base_uri": "https://localhost:8080/"
        }
      },
      "outputs": [
        {
          "output_type": "stream",
          "name": "stdout",
          "text": [
            "Before ReLU: tensor([[-0.3275, -0.2248,  0.2359, -0.5351, -1.0107, -0.1050,  0.1104, -0.3395,\n",
            "          0.0693, -0.3995,  0.0652, -0.1568, -0.0948,  0.2532, -0.0548,  0.0637,\n",
            "         -0.0556, -0.9388,  0.2321, -0.3529],\n",
            "        [ 0.2515, -0.2970,  0.5802, -0.2329, -0.8605, -0.0525,  0.0454,  0.0320,\n",
            "          0.2747, -0.2642,  0.4439, -0.3792,  0.0977,  0.2421, -0.0918, -0.0216,\n",
            "         -0.1545, -1.0114,  0.0908, -0.5090],\n",
            "        [-0.0899, -0.3982,  0.3714, -0.1645, -0.8173,  0.0358,  0.3849, -0.1980,\n",
            "          0.2299, -0.1175,  0.1208,  0.0646,  0.1964,  0.0059,  0.3495,  0.0848,\n",
            "         -0.2774, -1.0107, -0.0137, -0.1587]], grad_fn=<AddmmBackward0>)\n",
            "\n",
            "\n",
            "After ReLU: tensor([[0.0000, 0.0000, 0.2359, 0.0000, 0.0000, 0.0000, 0.1104, 0.0000, 0.0693,\n",
            "         0.0000, 0.0652, 0.0000, 0.0000, 0.2532, 0.0000, 0.0637, 0.0000, 0.0000,\n",
            "         0.2321, 0.0000],\n",
            "        [0.2515, 0.0000, 0.5802, 0.0000, 0.0000, 0.0000, 0.0454, 0.0320, 0.2747,\n",
            "         0.0000, 0.4439, 0.0000, 0.0977, 0.2421, 0.0000, 0.0000, 0.0000, 0.0000,\n",
            "         0.0908, 0.0000],\n",
            "        [0.0000, 0.0000, 0.3714, 0.0000, 0.0000, 0.0358, 0.3849, 0.0000, 0.2299,\n",
            "         0.0000, 0.1208, 0.0646, 0.1964, 0.0059, 0.3495, 0.0848, 0.0000, 0.0000,\n",
            "         0.0000, 0.0000]], grad_fn=<ReluBackward0>)\n"
          ]
        }
      ],
      "source": [
        "print(f\"Before ReLU: {hidden1}\\n\\n\")\n",
        "hidden1 = nn.ReLU()(hidden1)\n",
        "print(f\"After ReLU: {hidden1}\")"
      ]
    },
    {
      "cell_type": "markdown",
      "metadata": {
        "id": "Uz2IAwly47qK"
      },
      "source": [
        "### nn.Sequential\n",
        "[nn.Sequential](https://pytorch.org/docs/stable/generated/torch.nn.Sequential.html) 은 순서를 갖는\n",
        "모듈의 컨테이너입니다. 데이터는 정의된 것과 같은 순서로 모든 모듈들을 통해 전달됩니다. 순차 컨테이너(sequential container)를 사용하여\n",
        "아래의 ``seq_modules`` 와 같은 신경망을 빠르게 만들 수 있습니다.\n",
        "\n"
      ]
    },
    {
      "cell_type": "code",
      "execution_count": 11,
      "metadata": {
        "id": "_VEAkNzN47qK",
        "outputId": "ae5937a4-b7c2-43a6-ddc2-066235ce3872",
        "colab": {
          "base_uri": "https://localhost:8080/"
        }
      },
      "outputs": [
        {
          "output_type": "stream",
          "name": "stdout",
          "text": [
            "size of output:  torch.Size([3, 10])\n"
          ]
        }
      ],
      "source": [
        "seq_modules = nn.Sequential(\n",
        "    flatten,\n",
        "    layer1,\n",
        "    nn.ReLU(),\n",
        "    nn.Linear(20, 10)\n",
        ")\n",
        "input_image = torch.rand(3,28,28)\n",
        "logits = seq_modules(input_image)\n",
        "print(f'size of output: ', logits.size())"
      ]
    },
    {
      "cell_type": "markdown",
      "metadata": {
        "id": "BrhjCIX247qL"
      },
      "source": [
        "### nn.Softmax\n",
        "신경망의 마지막 선형 계층은 [nn.Softmax](https://pytorch.org/docs/stable/generated/torch.nn.Softmax.html) 모듈에 전달될\n",
        "([-\\infty, \\infty] 범위의 원시 값(raw value)인) `logits` 를 반환합니다. logits는 모델의 각 분류(class)에 대한 예측 확률을 나타내도록\n",
        "[0, 1] 범위로 비례하여 조정(scale)됩니다. ``dim`` 매개변수는 값의 합이 1이 되는 차원을 나타냅니다.\n",
        "\n"
      ]
    },
    {
      "cell_type": "code",
      "execution_count": 13,
      "metadata": {
        "id": "dxwoUm7n47qM",
        "outputId": "e99b9c93-209d-41a8-abbd-2f2e2b06e7fa",
        "colab": {
          "base_uri": "https://localhost:8080/"
        }
      },
      "outputs": [
        {
          "output_type": "stream",
          "name": "stdout",
          "text": [
            "size of output:  torch.Size([3, 10])\n"
          ]
        }
      ],
      "source": [
        "softmax = nn.Softmax(dim=1)\n",
        "pred_probab = softmax(logits)\n",
        "print(f'size of output: ', pred_probab.size())"
      ]
    },
    {
      "cell_type": "markdown",
      "metadata": {
        "id": "eSSN2nEu47qM"
      },
      "source": [
        "## 모델 매개변수\n",
        "\n",
        "신경망 내부의 많은 계층들은 *매개변수화(parameterize)* 됩니다. 즉, 학습 중에 최적화되는 가중치와 편향과 연관지어집니다.\n",
        "``nn.Module`` 을 상속하면 모델 객체 내부의 모든 필드들이 자동으로 추적(track)되며, 모델의 ``parameters()`` 및\n",
        "``named_parameters()`` 메소드로 모든 매개변수에 접근할 수 있게 됩니다.\n",
        "\n",
        "이 예제에서는 각 매개변수들을 순회하며(iterate), 매개변수의 크기와 값을 출력합니다.\n",
        "\n",
        "\n"
      ]
    },
    {
      "cell_type": "code",
      "execution_count": 14,
      "metadata": {
        "id": "pYHMiExs47qN",
        "outputId": "ed6b62e8-f869-4ea8-9c17-62a90221afd2",
        "colab": {
          "base_uri": "https://localhost:8080/"
        }
      },
      "outputs": [
        {
          "output_type": "stream",
          "name": "stdout",
          "text": [
            "Model structure: NeuralNetwork(\n",
            "  (flatten): Flatten(start_dim=1, end_dim=-1)\n",
            "  (linear_relu_stack): Sequential(\n",
            "    (0): Linear(in_features=784, out_features=512, bias=True)\n",
            "    (1): ReLU()\n",
            "    (2): Linear(in_features=512, out_features=512, bias=True)\n",
            "    (3): ReLU()\n",
            "    (4): Linear(in_features=512, out_features=10, bias=True)\n",
            "  )\n",
            ")\n",
            "\n",
            "\n",
            "Layer: linear_relu_stack.0.weight | Size: torch.Size([512, 784]) | Values : tensor([[ 0.0317,  0.0159,  0.0101,  ...,  0.0210,  0.0085, -0.0203],\n",
            "        [ 0.0108,  0.0265,  0.0040,  ...,  0.0172,  0.0118, -0.0354]],\n",
            "       device='cuda:0', grad_fn=<SliceBackward0>) \n",
            "\n",
            "Layer: linear_relu_stack.0.bias | Size: torch.Size([512]) | Values : tensor([ 0.0297, -0.0260], device='cuda:0', grad_fn=<SliceBackward0>) \n",
            "\n",
            "Layer: linear_relu_stack.2.weight | Size: torch.Size([512, 512]) | Values : tensor([[ 0.0014,  0.0265,  0.0112,  ...,  0.0348, -0.0263, -0.0428],\n",
            "        [-0.0312,  0.0271,  0.0136,  ...,  0.0038, -0.0036, -0.0431]],\n",
            "       device='cuda:0', grad_fn=<SliceBackward0>) \n",
            "\n",
            "Layer: linear_relu_stack.2.bias | Size: torch.Size([512]) | Values : tensor([ 0.0194, -0.0085], device='cuda:0', grad_fn=<SliceBackward0>) \n",
            "\n",
            "Layer: linear_relu_stack.4.weight | Size: torch.Size([10, 512]) | Values : tensor([[ 0.0392, -0.0363, -0.0384,  ...,  0.0207,  0.0263, -0.0192],\n",
            "        [-0.0369,  0.0048,  0.0290,  ...,  0.0405,  0.0336, -0.0300]],\n",
            "       device='cuda:0', grad_fn=<SliceBackward0>) \n",
            "\n",
            "Layer: linear_relu_stack.4.bias | Size: torch.Size([10]) | Values : tensor([ 0.0430, -0.0365], device='cuda:0', grad_fn=<SliceBackward0>) \n",
            "\n"
          ]
        }
      ],
      "source": [
        "print(f\"Model structure: {model}\\n\\n\")\n",
        "\n",
        "for name, param in model.named_parameters():\n",
        "    print(f\"Layer: {name} | Size: {param.size()} | Values : {param[:2]} \\n\")"
      ]
    },
    {
      "cell_type": "markdown",
      "metadata": {
        "id": "4k8kp2Mf47qO"
      },
      "source": [
        "------------------------------------------------------------------------------------------\n",
        "\n",
        "\n"
      ]
    },
    {
      "cell_type": "markdown",
      "metadata": {
        "id": "4MfPQ2eK47qO"
      },
      "source": [
        "## 더 읽어보기\n",
        "- [torch.nn API](https://pytorch.org/docs/stable/nn.html)\n",
        "\n"
      ]
    }
  ],
  "metadata": {
    "kernelspec": {
      "display_name": "Python 3",
      "name": "python3"
    },
    "language_info": {
      "codemirror_mode": {
        "name": "ipython",
        "version": 3
      },
      "file_extension": ".py",
      "mimetype": "text/x-python",
      "name": "python",
      "nbconvert_exporter": "python",
      "pygments_lexer": "ipython3",
      "version": "3.10.14"
    },
    "colab": {
      "provenance": [],
      "gpuType": "T4",
      "include_colab_link": true
    },
    "accelerator": "GPU"
  },
  "nbformat": 4,
  "nbformat_minor": 0
}