{
  "cells": [
    {
      "cell_type": "markdown",
      "metadata": {
        "id": "view-in-github",
        "colab_type": "text"
      },
      "source": [
        "<a href=\"https://colab.research.google.com/github/yoorhee/SkiML/blob/main/docs/_downloads/0e6615c5a7bc71e01ff3c51217ea00da/optimization_tutorial.ipynb\" target=\"_parent\"><img src=\"https://colab.research.google.com/assets/colab-badge.svg\" alt=\"Open In Colab\"/></a>"
      ]
    },
    {
      "cell_type": "code",
      "execution_count": null,
      "metadata": {
        "id": "8I_EnJ51B0zN"
      },
      "outputs": [],
      "source": [
        "# Google Colab에서 노트북을 실행하실 때에는\n",
        "# https://tutorials.pytorch.kr/beginner/colab 를 참고하세요.\n",
        "%matplotlib inline"
      ]
    },
    {
      "cell_type": "markdown",
      "metadata": {
        "id": "2pq7NTI5B0zR"
      },
      "source": [
        "\n",
        "[파이토치(PyTorch) 기본 익히기](intro.html) ||\n",
        "[빠른 시작](quickstart_tutorial.html) ||\n",
        "[텐서(Tensor)](tensorqs_tutorial.html) ||\n",
        "[Dataset과 Dataloader](data_tutorial.html) ||\n",
        "[변형(Transform)](transforms_tutorial.html) ||\n",
        "[신경망 모델 구성하기](buildmodel_tutorial.html) ||\n",
        "[Autograd](autogradqs_tutorial.html) ||\n",
        "**최적화(Optimization)** ||\n",
        "[모델 저장하고 불러오기](saveloadrun_tutorial.html)\n",
        "\n",
        "# 모델 매개변수 최적화하기\n",
        "\n",
        "이제 모델과 데이터가 준비되었으니, 데이터에 매개변수를 최적화하여 모델을 학습하고, 검증하고, 테스트할 차례입니다.\n",
        "모델을 학습하는 과정은 반복적인 과정을 거칩니다; 각 반복 단계에서 모델은 출력을 추측하고,\n",
        "추측과 정답 사이의 오류(\\ *손실(loss)*\\ )를 계산하고, ([이전 장](autograd_tutorial.html)\\ 에서 본 것처럼)\n",
        "매개변수에 대한 오류의 도함수(derivative)를 수집한 뒤, 경사하강법을 사용하여 이 파라미터들을 **최적화(optimize)**\\ 합니다.\n",
        "이 과정에 대한 자세한 설명은 [3Blue1Brown의 역전파](https://www.youtube.com/watch?v=tIeHLnjs5U8)_ 영상을 참고하세요.\n",
        "\n",
        "## 기본(Pre-requisite) 코드\n",
        "이전 장인 [Dataset과 DataLoader](data_tutorial.html)\\ 와 [신경망 모델 구성하기](buildmodel_tutorial.html)\\ 에서\n",
        "코드를 가져왔습니다.\n"
      ]
    },
    {
      "cell_type": "code",
      "execution_count": 1,
      "metadata": {
        "id": "Ur5e2qlYB0zT",
        "outputId": "aef7f2b7-41ca-4155-ad68-ee388a24ee43",
        "colab": {
          "base_uri": "https://localhost:8080/"
        }
      },
      "outputs": [
        {
          "output_type": "stream",
          "name": "stderr",
          "text": [
            "100%|██████████| 26.4M/26.4M [00:01<00:00, 17.1MB/s]\n",
            "100%|██████████| 29.5k/29.5k [00:00<00:00, 271kB/s]\n",
            "100%|██████████| 4.42M/4.42M [00:00<00:00, 5.04MB/s]\n",
            "100%|██████████| 5.15k/5.15k [00:00<00:00, 6.88MB/s]\n"
          ]
        }
      ],
      "source": [
        "import torch\n",
        "from torch import nn\n",
        "from torch.utils.data import DataLoader\n",
        "from torchvision import datasets\n",
        "from torchvision.transforms import ToTensor\n",
        "\n",
        "training_data = datasets.FashionMNIST(\n",
        "    root=\"data\",\n",
        "    train=True,\n",
        "    download=True,\n",
        "    transform=ToTensor()\n",
        ")\n",
        "\n",
        "test_data = datasets.FashionMNIST(\n",
        "    root=\"data\",\n",
        "    train=False,\n",
        "    download=True,\n",
        "    transform=ToTensor()\n",
        ")\n",
        "\n",
        "train_dataloader = DataLoader(training_data, batch_size=64)\n",
        "test_dataloader = DataLoader(test_data, batch_size=64)\n",
        "\n",
        "class NeuralNetwork(nn.Module):\n",
        "    def __init__(self):\n",
        "        super().__init__()\n",
        "        self.flatten = nn.Flatten()\n",
        "        self.linear_relu_stack = nn.Sequential(\n",
        "            nn.Linear(28*28, 512),\n",
        "            nn.ReLU(),\n",
        "            nn.Linear(512, 512),\n",
        "            nn.ReLU(),\n",
        "            nn.Linear(512, 10),\n",
        "        )\n",
        "\n",
        "    def forward(self, x):\n",
        "        x = self.flatten(x)\n",
        "        logits = self.linear_relu_stack(x)\n",
        "        return logits\n",
        "\n",
        "model = NeuralNetwork()"
      ]
    },
    {
      "cell_type": "markdown",
      "metadata": {
        "id": "Yyqi_FerB0zV"
      },
      "source": [
        "## 하이퍼파라미터(Hyperparameter)\n",
        "\n",
        "하이퍼파라미터(Hyperparameter)는 모델 최적화 과정을 제어할 수 있는 조절 가능한 매개변수입니다.\n",
        "서로 다른 하이퍼파라미터 값은 모델 학습과 수렴율(convergence rate)에 영향을 미칠 수 있습니다.\n",
        "(하이퍼파라미터 튜닝(tuning)에 대해 [더 알아보기](https://tutorials.pytorch.kr/beginner/hyperparameter_tuning_tutorial.html)_)\n",
        "\n",
        "학습 시에는 다음과 같은 하이퍼파라미터를 정의합니다:\n",
        " - **에폭(epoch) 수** - 데이터셋을 반복하는 횟수\n",
        " - **배치 크기(batch size)** - 매개변수가 갱신되기 전 신경망을 통해 전파된 데이터 샘플의 수\n",
        " - **학습률(learning rate)** - 각 배치/에폭에서 모델의 매개변수를 조절하는 비율. 값이 작을수록 학습 속도가 느려지고, 값이 크면 학습 중 예측할 수 없는 동작이 발생할 수 있습니다.\n",
        "\n",
        "\n"
      ]
    },
    {
      "cell_type": "code",
      "execution_count": 2,
      "metadata": {
        "id": "UzZB2eO5B0zV"
      },
      "outputs": [],
      "source": [
        "learning_rate = 1e-3\n",
        "batch_size = 64\n",
        "epochs = 5"
      ]
    },
    {
      "cell_type": "markdown",
      "metadata": {
        "id": "-FDDj6UfB0zV"
      },
      "source": [
        "## 최적화 단계(Optimization Loop)\n",
        "\n",
        "하이퍼파라미터를 설정한 뒤에는 최적화 단계를 통해 모델을 학습하고 최적화할 수 있습니다.\n",
        "최적화 단계의 각 반복(iteration)을 **에폭**\\ 이라고 부릅니다.\n",
        "\n",
        "하나의 에폭은 다음 두 부분으로 구성됩니다:\n",
        " - **학습 단계(train loop)** - 학습용 데이터셋을 반복(iterate)하고 최적의 매개변수로 수렴합니다.\n",
        " - **검증/테스트 단계(validation/test loop)** - 모델 성능이 개선되고 있는지를 확인하기 위해 테스트 데이터셋을 반복(iterate)합니다.\n",
        "\n",
        "학습 단계(training loop)에서 일어나는 몇 가지 개념들을 간략히 살펴보겠습니다. 최적화 단계(optimization loop)를 보려면\n",
        "`full-impl-label` 부분으로 건너뛰시면 됩니다.\n",
        "\n",
        "### 손실 함수(loss function)\n",
        "\n",
        "학습용 데이터를 제공하면, 학습되지 않은 신경망은 정답을 제공하지 않을 확률이 높습니다. **손실 함수(loss function)**\\ 는\n",
        "획득한 결과와 실제 값 사이의 틀린 정도(degree of dissimilarity)를 측정하며, 학습 중에 이 값을 최소화하려고 합니다.\n",
        "주어진 데이터 샘플을 입력으로 계산한 예측과 정답(label)을 비교하여 손실(loss)을 계산합니다.\n",
        "\n",
        "일반적인 손실함수에는 회귀 문제(regression task)에 사용하는 [nn.MSELoss](https://pytorch.org/docs/stable/generated/torch.nn.MSELoss.html#torch.nn.MSELoss)\\ (평균 제곱 오차(MSE; Mean Square Error))나\n",
        "분류(classification)에 사용하는 [nn.NLLLoss](https://pytorch.org/docs/stable/generated/torch.nn.NLLLoss.html#torch.nn.NLLLoss) (음의 로그 우도(Negative Log Likelihood)),\n",
        "그리고 ``nn.LogSoftmax``\\ 와 ``nn.NLLLoss``\\ 를 합친 [nn.CrossEntropyLoss](https://pytorch.org/docs/stable/generated/torch.nn.CrossEntropyLoss.html#torch.nn.CrossEntropyLoss)\n",
        "등이 있습니다.\n",
        "\n",
        "모델의 출력 로짓(logit)을 ``nn.CrossEntropyLoss``\\ 에 전달하여 로짓(logit)을 정규화하고 예측 오류를 계산합니다.\n",
        "\n"
      ]
    },
    {
      "cell_type": "code",
      "execution_count": 3,
      "metadata": {
        "id": "-Zr0dZOtB0zW"
      },
      "outputs": [],
      "source": [
        "# 손실 함수를 초기화합니다.\n",
        "loss_fn = nn.CrossEntropyLoss()"
      ]
    },
    {
      "cell_type": "markdown",
      "metadata": {
        "id": "f49ykqq3B0zW"
      },
      "source": [
        "### 옵티마이저(Optimizer)\n",
        "\n",
        "최적화는 각 학습 단계에서 모델의 오류를 줄이기 위해 모델 매개변수를 조정하는 과정입니다. **최적화 알고리즘**\\ 은 이 과정이 수행되는 방식(여기에서는 확률적 경사하강법(SGD; Stochastic Gradient Descent))을 정의합니다.\n",
        "모든 최적화 절차(logic)는 ``optimizer`` 객체에 캡슐화(encapsulate)됩니다. 여기서는 SGD 옵티마이저를 사용하고 있으며, PyTorch에는 ADAM이나 RMSProp과 같은 다른 종류의 모델과 데이터에서 더 잘 동작하는\n",
        "[다양한 옵티마이저](https://pytorch.org/docs/stable/optim.html)\\ 가 있습니다.\n",
        "\n",
        "학습하려는 모델의 매개변수와 학습률(learning rate) 하이퍼파라미터를 등록하여 옵티마이저를 초기화합니다.\n",
        "\n"
      ]
    },
    {
      "cell_type": "code",
      "execution_count": 4,
      "metadata": {
        "id": "wO4iWkYRB0zW"
      },
      "outputs": [],
      "source": [
        "optimizer = torch.optim.SGD(model.parameters(), lr=learning_rate)"
      ]
    },
    {
      "cell_type": "markdown",
      "metadata": {
        "id": "PX-mndxXB0zX"
      },
      "source": [
        "학습 단계(loop)에서 최적화는 세단계로 이뤄집니다:\n",
        " * ``optimizer.zero_grad()``\\ 를 호출하여 모델 매개변수의 변화도를 재설정합니다. 기본적으로 변화도는 더해지기(add up) 때문에 중복 계산을 막기 위해 반복할 때마다 명시적으로 0으로 설정합니다.\n",
        " * ``loss.backwards()``\\ 를 호출하여 예측 손실(prediction loss)을 역전파합니다. PyTorch는 각 매개변수에 대한 손실의 변화도를 저장합니다.\n",
        " * 변화도를 계산한 뒤에는 ``optimizer.step()``\\ 을 호출하여 역전파 단계에서 수집된 변화도로 매개변수를 조정합니다.\n",
        "\n"
      ]
    },
    {
      "cell_type": "markdown",
      "metadata": {
        "id": "hWQAL70WB0zX"
      },
      "source": [
        "\n",
        "## 전체 구현\n",
        "\n",
        "최적화 코드를 반복하여 수행하는 ``train_loop``\\ 와 테스트 데이터로 모델의 성능을 측정하는 ``test_loop``\\ 를 정의하였습니다.\n",
        "\n"
      ]
    },
    {
      "cell_type": "code",
      "execution_count": 5,
      "metadata": {
        "id": "OCEkWpToB0zX"
      },
      "outputs": [],
      "source": [
        "def train_loop(dataloader, model, loss_fn, optimizer):\n",
        "    size = len(dataloader.dataset)\n",
        "    # 모델을 학습(train) 모드로 설정합니다 - 배치 정규화(Batch Normalization) 및 드롭아웃(Dropout) 레이어들에 중요합니다.\n",
        "    # 이 예시에서는 없어도 되지만, 모범 사례를 위해 추가해두었습니다.\n",
        "    model.train()\n",
        "    for batch, (X, y) in enumerate(dataloader):\n",
        "        # 예측(prediction)과 손실(loss) 계산\n",
        "        pred = model(X)\n",
        "        loss = loss_fn(pred, y)\n",
        "\n",
        "        # 역전파\n",
        "        loss.backward()\n",
        "        optimizer.step()\n",
        "        optimizer.zero_grad()\n",
        "\n",
        "        if batch % 100 == 0:\n",
        "            loss, current = loss.item(), batch * batch_size + len(X)\n",
        "            print(f\"loss: {loss:>7f}  [{current:>5d}/{size:>5d}]\")\n",
        "\n",
        "\n",
        "def test_loop(dataloader, model, loss_fn):\n",
        "    # 모델을 평가(eval) 모드로 설정합니다 - 배치 정규화(Batch Normalization) 및 드롭아웃(Dropout) 레이어들에 중요합니다.\n",
        "    # 이 예시에서는 없어도 되지만, 모범 사례를 위해 추가해두었습니다.\n",
        "    model.eval()\n",
        "    size = len(dataloader.dataset)\n",
        "    num_batches = len(dataloader)\n",
        "    test_loss, correct = 0, 0\n",
        "\n",
        "    # torch.no_grad()를 사용하여 테스트 시 변화도(gradient)를 계산하지 않도록 합니다.\n",
        "    # 이는 requires_grad=True로 설정된 텐서들의 불필요한 변화도 연산 및 메모리 사용량 또한 줄여줍니다.\n",
        "    with torch.no_grad():\n",
        "        for X, y in dataloader:\n",
        "            pred = model(X)\n",
        "            test_loss += loss_fn(pred, y).item()\n",
        "            correct += (pred.argmax(1) == y).type(torch.float).sum().item()\n",
        "\n",
        "    test_loss /= num_batches\n",
        "    correct /= size\n",
        "    print(f\"Test Error: \\n Accuracy: {(100*correct):>0.1f}%, Avg loss: {test_loss:>8f} \\n\")"
      ]
    },
    {
      "cell_type": "markdown",
      "metadata": {
        "id": "Acbo7qqGB0zX"
      },
      "source": [
        "손실 함수와 옵티마이저를 초기화하고 ``train_loop``\\ 와 ``test_loop``\\ 에 전달합니다.\n",
        "모델의 성능 향상을 알아보기 위해 자유롭게 에폭(epoch) 수를 증가시켜 볼 수 있습니다.\n",
        "\n"
      ]
    },
    {
      "cell_type": "code",
      "execution_count": 6,
      "metadata": {
        "id": "HWuYRgglB0zY",
        "outputId": "c782c714-618c-43ef-cf4b-5413c5dfbc8c",
        "colab": {
          "base_uri": "https://localhost:8080/"
        }
      },
      "outputs": [
        {
          "output_type": "stream",
          "name": "stdout",
          "text": [
            "Epoch 1\n",
            "-------------------------------\n",
            "loss: 2.285957  [   64/60000]\n",
            "loss: 2.279847  [ 6464/60000]\n",
            "loss: 2.254699  [12864/60000]\n",
            "loss: 2.262256  [19264/60000]\n",
            "loss: 2.238262  [25664/60000]\n",
            "loss: 2.212480  [32064/60000]\n",
            "loss: 2.223426  [38464/60000]\n",
            "loss: 2.183234  [44864/60000]\n",
            "loss: 2.180736  [51264/60000]\n",
            "loss: 2.160029  [57664/60000]\n",
            "Test Error: \n",
            " Accuracy: 51.8%, Avg loss: 2.142535 \n",
            "\n",
            "Epoch 2\n",
            "-------------------------------\n",
            "loss: 2.149013  [   64/60000]\n",
            "loss: 2.141006  [ 6464/60000]\n",
            "loss: 2.076510  [12864/60000]\n",
            "loss: 2.094939  [19264/60000]\n",
            "loss: 2.043229  [25664/60000]\n",
            "loss: 1.985512  [32064/60000]\n",
            "loss: 2.008426  [38464/60000]\n",
            "loss: 1.925361  [44864/60000]\n",
            "loss: 1.928950  [51264/60000]\n",
            "loss: 1.857445  [57664/60000]\n",
            "Test Error: \n",
            " Accuracy: 56.2%, Avg loss: 1.854479 \n",
            "\n",
            "Epoch 3\n",
            "-------------------------------\n",
            "loss: 1.891225  [   64/60000]\n",
            "loss: 1.862936  [ 6464/60000]\n",
            "loss: 1.736775  [12864/60000]\n",
            "loss: 1.769754  [19264/60000]\n",
            "loss: 1.676930  [25664/60000]\n",
            "loss: 1.625730  [32064/60000]\n",
            "loss: 1.642476  [38464/60000]\n",
            "loss: 1.545916  [44864/60000]\n",
            "loss: 1.570596  [51264/60000]\n",
            "loss: 1.464755  [57664/60000]\n",
            "Test Error: \n",
            " Accuracy: 60.0%, Avg loss: 1.487905 \n",
            "\n",
            "Epoch 4\n",
            "-------------------------------\n",
            "loss: 1.559081  [   64/60000]\n",
            "loss: 1.531704  [ 6464/60000]\n",
            "loss: 1.375506  [12864/60000]\n",
            "loss: 1.439635  [19264/60000]\n",
            "loss: 1.340692  [25664/60000]\n",
            "loss: 1.331387  [32064/60000]\n",
            "loss: 1.349402  [38464/60000]\n",
            "loss: 1.271842  [44864/60000]\n",
            "loss: 1.307108  [51264/60000]\n",
            "loss: 1.212975  [57664/60000]\n",
            "Test Error: \n",
            " Accuracy: 62.7%, Avg loss: 1.238644 \n",
            "\n",
            "Epoch 5\n",
            "-------------------------------\n",
            "loss: 1.318036  [   64/60000]\n",
            "loss: 1.307451  [ 6464/60000]\n",
            "loss: 1.134573  [12864/60000]\n",
            "loss: 1.236362  [19264/60000]\n",
            "loss: 1.125392  [25664/60000]\n",
            "loss: 1.142540  [32064/60000]\n",
            "loss: 1.174261  [38464/60000]\n",
            "loss: 1.103930  [44864/60000]\n",
            "loss: 1.142697  [51264/60000]\n",
            "loss: 1.066486  [57664/60000]\n",
            "Test Error: \n",
            " Accuracy: 64.3%, Avg loss: 1.084866 \n",
            "\n",
            "Epoch 6\n",
            "-------------------------------\n",
            "loss: 1.158307  [   64/60000]\n",
            "loss: 1.167231  [ 6464/60000]\n",
            "loss: 0.977074  [12864/60000]\n",
            "loss: 1.109319  [19264/60000]\n",
            "loss: 0.992399  [25664/60000]\n",
            "loss: 1.013970  [32064/60000]\n",
            "loss: 1.063862  [38464/60000]\n",
            "loss: 0.996918  [44864/60000]\n",
            "loss: 1.033405  [51264/60000]\n",
            "loss: 0.972911  [57664/60000]\n",
            "Test Error: \n",
            " Accuracy: 65.5%, Avg loss: 0.984300 \n",
            "\n",
            "Epoch 7\n",
            "-------------------------------\n",
            "loss: 1.046169  [   64/60000]\n",
            "loss: 1.074868  [ 6464/60000]\n",
            "loss: 0.868349  [12864/60000]\n",
            "loss: 1.023964  [19264/60000]\n",
            "loss: 0.907810  [25664/60000]\n",
            "loss: 0.921691  [32064/60000]\n",
            "loss: 0.989870  [38464/60000]\n",
            "loss: 0.926167  [44864/60000]\n",
            "loss: 0.956510  [51264/60000]\n",
            "loss: 0.908480  [57664/60000]\n",
            "Test Error: \n",
            " Accuracy: 67.2%, Avg loss: 0.914499 \n",
            "\n",
            "Epoch 8\n",
            "-------------------------------\n",
            "loss: 0.962330  [   64/60000]\n",
            "loss: 1.009007  [ 6464/60000]\n",
            "loss: 0.789507  [12864/60000]\n",
            "loss: 0.962547  [19264/60000]\n",
            "loss: 0.850610  [25664/60000]\n",
            "loss: 0.853062  [32064/60000]\n",
            "loss: 0.936285  [38464/60000]\n",
            "loss: 0.878236  [44864/60000]\n",
            "loss: 0.900326  [51264/60000]\n",
            "loss: 0.860835  [57664/60000]\n",
            "Test Error: \n",
            " Accuracy: 68.3%, Avg loss: 0.863463 \n",
            "\n",
            "Epoch 9\n",
            "-------------------------------\n",
            "loss: 0.896589  [   64/60000]\n",
            "loss: 0.958500  [ 6464/60000]\n",
            "loss: 0.730268  [12864/60000]\n",
            "loss: 0.916408  [19264/60000]\n",
            "loss: 0.809209  [25664/60000]\n",
            "loss: 0.800593  [32064/60000]\n",
            "loss: 0.894903  [38464/60000]\n",
            "loss: 0.844481  [44864/60000]\n",
            "loss: 0.857945  [51264/60000]\n",
            "loss: 0.823749  [57664/60000]\n",
            "Test Error: \n",
            " Accuracy: 69.4%, Avg loss: 0.824329 \n",
            "\n",
            "Epoch 10\n",
            "-------------------------------\n",
            "loss: 0.843578  [   64/60000]\n",
            "loss: 0.917576  [ 6464/60000]\n",
            "loss: 0.683687  [12864/60000]\n",
            "loss: 0.880501  [19264/60000]\n",
            "loss: 0.777544  [25664/60000]\n",
            "loss: 0.760005  [32064/60000]\n",
            "loss: 0.861100  [38464/60000]\n",
            "loss: 0.819300  [44864/60000]\n",
            "loss: 0.824837  [51264/60000]\n",
            "loss: 0.793103  [57664/60000]\n",
            "Test Error: \n",
            " Accuracy: 70.7%, Avg loss: 0.792980 \n",
            "\n",
            "Done!\n"
          ]
        }
      ],
      "source": [
        "loss_fn = nn.CrossEntropyLoss()\n",
        "optimizer = torch.optim.SGD(model.parameters(), lr=learning_rate)\n",
        "\n",
        "epochs = 10\n",
        "for t in range(epochs):\n",
        "    print(f\"Epoch {t+1}\\n-------------------------------\")\n",
        "    train_loop(train_dataloader, model, loss_fn, optimizer)\n",
        "    test_loop(test_dataloader, model, loss_fn)\n",
        "print(\"Done!\")"
      ]
    },
    {
      "cell_type": "markdown",
      "metadata": {
        "id": "_0t_65ekB0zY"
      },
      "source": [
        "## 더 읽어보기\n",
        "- [Loss Functions](https://pytorch.org/docs/stable/nn.html#loss-functions)\n",
        "- [torch.optim](https://pytorch.org/docs/stable/optim.html)\n",
        "- [Warmstart Training a Model](https://tutorials.pytorch.kr/recipes/recipes/warmstarting_model_using_parameters_from_a_different_model.html)\n",
        "\n",
        "\n"
      ]
    }
  ],
  "metadata": {
    "kernelspec": {
      "display_name": "Python 3",
      "language": "python",
      "name": "python3"
    },
    "language_info": {
      "codemirror_mode": {
        "name": "ipython",
        "version": 3
      },
      "file_extension": ".py",
      "mimetype": "text/x-python",
      "name": "python",
      "nbconvert_exporter": "python",
      "pygments_lexer": "ipython3",
      "version": "3.10.14"
    },
    "colab": {
      "provenance": [],
      "include_colab_link": true
    }
  },
  "nbformat": 4,
  "nbformat_minor": 0
}