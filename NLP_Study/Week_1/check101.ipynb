{
 "cells": [
  {
   "cell_type": "code",
   "execution_count": 1,
   "id": "1d3af5bc",
   "metadata": {},
   "outputs": [],
   "source": [
    "import torch"
   ]
  },
  {
   "cell_type": "code",
   "execution_count": 2,
   "id": "86b9a714",
   "metadata": {},
   "outputs": [],
   "source": [
    "from pytorch101 import create_sample_tensor, create_tensor_of_pi"
   ]
  },
  {
   "cell_type": "code",
   "execution_count": 3,
   "id": "c6a29c5e",
   "metadata": {},
   "outputs": [
    {
     "data": {
      "text/plain": [
       "tensor([[0., 0., 0.],\n",
       "        [0., 0., 0.]])"
      ]
     },
     "execution_count": 3,
     "metadata": {},
     "output_type": "execute_result"
    }
   ],
   "source": [
    "create_sample_tensor()"
   ]
  },
  {
   "cell_type": "code",
   "execution_count": 4,
   "id": "35267a2a",
   "metadata": {},
   "outputs": [
    {
     "name": "stdout",
     "output_type": "stream",
     "text": [
      "tensor([[3.1400, 3.1400, 3.1400],\n",
      "        [3.1400, 3.1400, 3.1400],\n",
      "        [3.1400, 3.1400, 3.1400],\n",
      "        [3.1400, 3.1400, 3.1400]])\n"
     ]
    }
   ],
   "source": [
    "create_tensor_of_pi(4,3)\n",
    "print(create_tensor_of_pi(4,3))"
   ]
  },
  {
   "cell_type": "code",
   "execution_count": 5,
   "id": "45f3f9e2",
   "metadata": {},
   "outputs": [
    {
     "data": {
      "text/plain": [
       "12"
      ]
     },
     "execution_count": 5,
     "metadata": {},
     "output_type": "execute_result"
    }
   ],
   "source": [
    "from pytorch101 import count_tensor_elements\n",
    "count_tensor_elements(create_tensor_of_pi(4,3))"
   ]
  },
  {
   "cell_type": "code",
   "execution_count": 6,
   "id": "4e44865c",
   "metadata": {},
   "outputs": [
    {
     "name": "stdout",
     "output_type": "stream",
     "text": [
      "tensor([[3.1400, 3.1400, 3.1400],\n",
      "        [3.1400, 3.1400, 3.1400],\n",
      "        [3.1400, 3.1400, 3.1400],\n",
      "        [3.1400, 3.1400, 3.1400]])\n"
     ]
    }
   ],
   "source": [
    "from pytorch101 import create_tensor_of_pi\n",
    "print(create_tensor_of_pi(4,3))"
   ]
  },
  {
   "cell_type": "code",
   "execution_count": 7,
   "id": "c076cbbd",
   "metadata": {},
   "outputs": [
    {
     "name": "stdout",
     "output_type": "stream",
     "text": [
      "tensor([[0., 0., 0.],\n",
      "        [0., 0., 0.]])\n",
      "tensor(0.)\n"
     ]
    }
   ],
   "source": [
    "from pytorch101 import calculate_tensor_sum\n",
    "x = create_sample_tensor()\n",
    "print(x)\n",
    "print(calculate_tensor_sum(x))"
   ]
  },
  {
   "cell_type": "code",
   "execution_count": 8,
   "id": "ca57b454",
   "metadata": {},
   "outputs": [
    {
     "name": "stdout",
     "output_type": "stream",
     "text": [
      "tensor([ 5., 10., 15., 20., 25., 30., 35.])\n"
     ]
    }
   ],
   "source": [
    "from pytorch101 import divisible_by_five\n",
    "print(divisible_by_five(2, 39))"
   ]
  },
  {
   "cell_type": "code",
   "execution_count": 9,
   "id": "c56f22cd",
   "metadata": {},
   "outputs": [
    {
     "name": "stdout",
     "output_type": "stream",
     "text": [
      "tensor([[0., 0., 0.],\n",
      "        [0., 0., 0.]])\n",
      "tensor(0.)\n",
      "tensor([[3.1400, 3.1400, 3.1400],\n",
      "        [3.1400, 3.1400, 3.1400],\n",
      "        [3.1400, 3.1400, 3.1400],\n",
      "        [3.1400, 3.1400, 3.1400]])\n",
      "12\n",
      "tensor([ 5., 10., 15., 20., 25., 30., 35.])\n"
     ]
    }
   ],
   "source": [
    "import importlib\n",
    "import pytorch101\n",
    "importlib.reload(pytorch101)\n",
    "\n",
    "from pytorch101 import create_sample_tensor, calculate_tensor_sum\n",
    "\n",
    "x = create_sample_tensor()\n",
    "print(x)\n",
    "print(calculate_tensor_sum(x))\n",
    "print(create_tensor_of_pi(4,3))\n",
    "print(count_tensor_elements(create_tensor_of_pi(4,3)))\n",
    "print(divisible_by_five(2, 39))"
   ]
  },
  {
   "cell_type": "code",
   "execution_count": 10,
   "id": "6d7b8c7f",
   "metadata": {},
   "outputs": [
    {
     "name": "stdout",
     "output_type": "stream",
     "text": [
      "tensor([[0., 0., 0.],\n",
      "        [0., 0., 0.]])\n",
      "tensor(0.)\n",
      "tensor([[3.1400, 3.1400, 3.1400],\n",
      "        [3.1400, 3.1400, 3.1400],\n",
      "        [3.1400, 3.1400, 3.1400],\n",
      "        [3.1400, 3.1400, 3.1400]])\n",
      "12\n",
      "tensor([ 5., 10., 15., 20., 25., 30., 35.])\n"
     ]
    }
   ],
   "source": [
    "import importlib\n",
    "import pytorch101\n",
    "importlib.reload(pytorch101)\n",
    "\n",
    "x = pytorch101.create_sample_tensor()\n",
    "print(x)\n",
    "print(pytorch101.calculate_tensor_sum(x))\n",
    "print(pytorch101.create_tensor_of_pi(4, 3))\n",
    "print(pytorch101.count_tensor_elements(pytorch101.create_tensor_of_pi(4,3)))\n",
    "print(pytorch101.divisible_by_five(2, 39))\n"
   ]
  },
  {
   "cell_type": "code",
   "execution_count": 11,
   "id": "e650012f",
   "metadata": {},
   "outputs": [
    {
     "name": "stdout",
     "output_type": "stream",
     "text": [
      "12\n"
     ]
    }
   ],
   "source": [
    "print(pytorch101.count_nonzero_elements(pytorch101.create_tensor_of_pi(4,3)))"
   ]
  },
  {
   "cell_type": "code",
   "execution_count": 14,
   "id": "ab319a0d",
   "metadata": {},
   "outputs": [
    {
     "name": "stdout",
     "output_type": "stream",
     "text": [
      "tensor([[[ 0,  1,  2],\n",
      "         [ 3,  4,  5],\n",
      "         [ 6,  7,  8],\n",
      "         [ 9, 10, 11]],\n",
      "\n",
      "        [[12, 13, 14],\n",
      "         [15, 16, 17],\n",
      "         [18, 19, 20],\n",
      "         [21, 22, 23]],\n",
      "\n",
      "        [[24, 25, 26],\n",
      "         [27, 28, 29],\n",
      "         [30, 31, 32],\n",
      "         [33, 34, 35]]])\n",
      "tensor([[ 0,  1,  2, 12, 13, 14, 24, 25, 26],\n",
      "        [ 3,  4,  5, 15, 16, 17, 27, 28, 29],\n",
      "        [ 6,  7,  8, 18, 19, 20, 30, 31, 32],\n",
      "        [ 9, 10, 11, 21, 22, 23, 33, 34, 35]])\n"
     ]
    },
    {
     "ename": "NameError",
     "evalue": "name 'y' is not defined",
     "output_type": "error",
     "traceback": [
      "\u001b[0;31m---------------------------------------------------------------------------\u001b[0m",
      "\u001b[0;31mNameError\u001b[0m                                 Traceback (most recent call last)",
      "Cell \u001b[0;32mIn[14], line 3\u001b[0m\n\u001b[1;32m      1\u001b[0m x \u001b[38;5;241m=\u001b[39m torch\u001b[38;5;241m.\u001b[39mtensor([i \u001b[38;5;28;01mfor\u001b[39;00m i \u001b[38;5;129;01min\u001b[39;00m \u001b[38;5;28mrange\u001b[39m(\u001b[38;5;241m36\u001b[39m)])\n\u001b[1;32m      2\u001b[0m \u001b[38;5;28mprint\u001b[39m(pytorch101\u001b[38;5;241m.\u001b[39mreshape_practice_v2(x))\n\u001b[0;32m----> 3\u001b[0m \u001b[38;5;28mprint\u001b[39m(\u001b[43my\u001b[49m)\n",
      "\u001b[0;31mNameError\u001b[0m: name 'y' is not defined"
     ]
    }
   ],
   "source": [
    "x = torch.tensor([i for i in range(36)])\n",
    "print(pytorch101.reshape_practice_v2(x))\n",
    "# print(y)"
   ]
  },
  {
   "cell_type": "code",
   "execution_count": 18,
   "id": "69cdff4c",
   "metadata": {},
   "outputs": [
    {
     "data": {
      "text/plain": [
       "tensor([[ 0,  1,  2, 12, 13, 14, 24, 25, 26],\n",
       "        [ 3,  4,  5, 15, 16, 17, 27, 28, 29],\n",
       "        [ 6,  7,  8, 18, 19, 20, 30, 31, 32],\n",
       "        [ 9, 10, 11, 21, 22, 23, 33, 34, 35]])"
      ]
     },
     "execution_count": 18,
     "metadata": {},
     "output_type": "execute_result"
    }
   ],
   "source": [
    "importlib.reload(pytorch101)\n",
    "pytorch101.reshape_practice_v2(x)"
   ]
  },
  {
   "cell_type": "code",
   "execution_count": 26,
   "id": "430793c7",
   "metadata": {},
   "outputs": [
    {
     "name": "stdout",
     "output_type": "stream",
     "text": [
      "tensor([[0, 2, 3],\n",
      "        [0, 5, 6]])\n"
     ]
    }
   ],
   "source": [
    "importlib.reload(pytorch101)\n",
    "print(pytorch101.zero_min_in_each_row(torch.tensor([[1, 2, 3], [4, 5, 6]])))"
   ]
  },
  {
   "cell_type": "code",
   "execution_count": 32,
   "id": "eb32659d",
   "metadata": {},
   "outputs": [
    {
     "data": {
      "text/plain": [
       "tensor([[[ 19,  22],\n",
       "         [ 43,  50]],\n",
       "\n",
       "        [[111, 122],\n",
       "         [151, 166]]])"
      ]
     },
     "execution_count": 32,
     "metadata": {},
     "output_type": "execute_result"
    }
   ],
   "source": [
    "importlib.reload(pytorch101)\n",
    "pytorch101.batch_matrix_multiply(torch.tensor([[[1, 2], [3, 4]],[[5,6],[7,8]]]), torch.tensor([[[5, 6], [7, 8]],[[9, 10], [11, 12]]]))"
   ]
  },
  {
   "cell_type": "code",
   "execution_count": 35,
   "id": "a9326ee2",
   "metadata": {},
   "outputs": [
    {
     "data": {
      "text/plain": [
       "tensor([[ 7., 10.],\n",
       "        [15., 22.]])"
      ]
     },
     "execution_count": 35,
     "metadata": {},
     "output_type": "execute_result"
    }
   ],
   "source": [
    "importlib.reload(pytorch101)\n",
    "pytorch101.gpu_matrix_multiplication(\n",
    "    torch.tensor([[1, 2], [3, 4]]).float(),\n",
    "    torch.tensor([[1, 2], [3, 4]]).float()\n",
    ")"
   ]
  }
 ],
 "metadata": {
  "kernelspec": {
   "display_name": "torch_env",
   "language": "python",
   "name": "python3"
  },
  "language_info": {
   "codemirror_mode": {
    "name": "ipython",
    "version": 3
   },
   "file_extension": ".py",
   "mimetype": "text/x-python",
   "name": "python",
   "nbconvert_exporter": "python",
   "pygments_lexer": "ipython3",
   "version": "3.10.18"
  }
 },
 "nbformat": 4,
 "nbformat_minor": 5
}
